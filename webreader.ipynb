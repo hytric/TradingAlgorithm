{
 "cells": [
  {
   "cell_type": "code",
   "execution_count": 284,
   "metadata": {
    "collapsed": false
   },
   "outputs": [
    {
     "name": "stdout",
     "output_type": "stream",
     "text": [
      "{2016: 2.08, 2017: 1.74, 2013: 2.36, 2014: 1.83, 2015: 1.71}\n"
     ]
    }
   ],
   "source": [
    "import urllib.request\n",
    "import requests\n",
    "import pandas as pd\n",
    "from bs4 import BeautifulSoup\n",
    "import datetime\n",
    "import numpy as np\n",
    "\n",
    "\n",
    "def get_annual_dividend_yield(code) :\n",
    "    url = \"http://comp.fnguide.com/SVO2/ASP/SVD_Main.asp?pGB=1&gicode=A%s&cID=&MenuYn=Y&ReportGB=&NewMenuID=101&stkGb=701=\" % (code)\n",
    "    f = urllib.request.urlopen(url).read()    \n",
    "    soup = BeautifulSoup(f, 'html5lib')\n",
    "    table_data = soup.find_all('table', {'class' : \"us_table_ty1 h_fix zigbg_no\"})\n",
    "    tr_data = table_data[5].find_all('tr')[-1]\n",
    "    td_data = tr_data.find_all('td')\n",
    "    previous_dividend = []\n",
    "    for i in range(len(td_data)) :\n",
    "        td_text = td_data[i].get_text() \n",
    "        if td_text == '\\xa0' :\n",
    "            td_text = np.nan\n",
    "        elif td_text != '\\xa0' :\n",
    "            td_text = float(td_text)\n",
    "        previous_dividend.append(td_text)\n",
    "            \n",
    "    now = datetime.datetime.now()\n",
    "    cur_year = now.year\n",
    "    \n",
    "    previous_dividend_yield = {}\n",
    "    \n",
    "    for i, year in enumerate(range(cur_year-5, cur_year+3)) :\n",
    "        previous_dividend_yield[year] = previous_dividend[i]\n",
    "        \n",
    "    df_pdy = pd.DataFrame(previous_dividend_yield, index=['배당수익률'])\n",
    "\n",
    "    return df_pdy\n",
    "\n",
    "def get_dividend_yield(code):\n",
    "    url = \"http://companyinfo.stock.naver.com/company/c1010001.aspx?cmp_cd=\" + code\n",
    "    html = requests.get(url).text\n",
    "\n",
    "    soup = BeautifulSoup(html, 'lxml')\n",
    "    td_data = soup.find_all('td', {'class': 'cmp-table-cell td0301'})\n",
    "    dt_data = td_data[0].find_all('dt')\n",
    "\n",
    "    dividend_yield = dt_data[5].text\n",
    "    dividend_yield = dividend_yield.split(' ')[1]\n",
    "    dividend_yield = dividend_yield[:-1]\n",
    "\n",
    "    return dividend_yield\n",
    "\n",
    "def get_estimated_dividend_yield(code):\n",
    "    df = get_annual_dividend_yield(code)\n",
    "    dividend_yield = df.ix[\"배당수익률\"]\n",
    "    now = datetime.datetime.now()\n",
    "    cur_year = now.year\n",
    "    \n",
    "    if cur_year in dividend_yield.index:\n",
    "        cur_year_dividend_yield = dividend_yield[cur_year]\n",
    "        if np.isnan(cur_year_dividend_yield):\n",
    "            return get_dividend_yield(code)\n",
    "        else:\n",
    "            return cur_year_dividend_yield\n",
    "    else:\n",
    "        return get_dividend_yield(code)\n",
    "    \n",
    "def get_previous_dividend_yield(code) :\n",
    "    url = \"http://comp.fnguide.com/SVO2/ASP/SVD_Main.asp?pGB=1&gicode=A%s&cID=&MenuYn=Y&ReportGB=&NewMenuID=101&stkGb=701=\" % (code)\n",
    "    f = urllib.request.urlopen(url).read()    \n",
    "    soup = BeautifulSoup(f, 'html5lib')\n",
    "    table_data = soup.find_all('table', {'class' : \"us_table_ty1 h_fix zigbg_no\"})\n",
    "    tr_data = table_data[5].find_all('tr')[-1]\n",
    "    td_data = tr_data.find_all('td')\n",
    "    previous_dividend = []\n",
    "    for i in range(len(td_data)) :\n",
    "        td_text = td_data[i].get_text() \n",
    "        if td_text == '\\xa0' :\n",
    "            td_text = np.nan\n",
    "        elif td_text != '\\xa0' :\n",
    "            td_text = float(td_text)\n",
    "        previous_dividend.append(td_text)\n",
    "            \n",
    "    now = datetime.datetime.now()\n",
    "    cur_year = now.year\n",
    "    \n",
    "    previous_dividend_yield = {}\n",
    "    \n",
    "    for i, year in enumerate(range(cur_year-5, cur_year)) :\n",
    "        previous_dividend_yield[year] = previous_dividend[i]\n",
    "        \n",
    "    return previous_dividend_yield\n",
    "\n",
    "def get_3year_treasury():\n",
    "    url = \"http://www.index.go.kr/strata/jsp/showStblGams3.jsp?stts_cd=288401&amp;idx_cd=2884&amp;freq=Y&amp;period=1998:2016\"\n",
    "    html = requests.get(url).text\n",
    "    soup = BeautifulSoup(html, 'lxml')\n",
    "    tr_data = soup.find_all('tr', id='tr_288401_1')\n",
    "    td_data = tr_data[0].find_all('td')\n",
    "\n",
    "    treasury_3year = {}\n",
    "    start_year = 1998\n",
    "\n",
    "    for x in td_data:\n",
    "        treasury_3year[start_year] = x.text\n",
    "        start_year += 1\n",
    "\n",
    "    #print(treasury_3year)\n",
    "    return treasury_3year\n",
    "\n",
    "\n",
    "def get_current_3year_treasury():\n",
    "    url = \"http://info.finance.naver.com/marketindex/interestDailyQuote.nhn?marketindexCd=IRR_GOVT03Y&page=1\"\n",
    "    html = requests.get(url).text\n",
    "\n",
    "    soup = BeautifulSoup(html, 'lxml')\n",
    "    tbody_data = soup.find_all('tbody')\n",
    "    tr_data = tbody_data[0].find_all('tr')\n",
    "    td_data = tr_data[0].find_all('td')\n",
    "    return td_data[1].text\n",
    "\n",
    "\n",
    "if __name__ == \"__main__\":\n",
    "    # df = get_financial_statements('035720')\n",
    "    # print(df)\n",
    "    # get_3year_treasury()\n",
    "    # dividend_yield = get_dividend_yield('058470')\n",
    "    # print(dividend_yield)\n",
    "    # estimated_dividend_yield = get_estimated_dividend_yield('058470')\n",
    "    # print(estimated_dividend_yield)\n",
    "    # print(get_current_3year_treasury())\n",
    "    print(get_previous_dividend_yield('058470'))"
   ]
  },
  {
   "cell_type": "code",
   "execution_count": 282,
   "metadata": {
    "collapsed": false
   },
   "outputs": [
    {
     "name": "stdout",
     "output_type": "stream",
     "text": [
      "{2016: '1.64', 1998: '6.95', 1999: '9.03', 2000: '6.70', 2001: '5.91', 2002: '5.11', 2003: '4.82', 2004: '3.28', 2005: '5.08', 2006: '4.92', 2007: '5.74', 2008: '3.41', 2009: '4.41', 2010: '3.38', 2011: '3.34', 2012: '2.82', 2013: '2.86', 2014: '2.10', 2015: '1.66'}\n"
     ]
    }
   ],
   "source": [
    "def get_3year_treasury():\n",
    "    url = \"http://www.index.go.kr/strata/jsp/showStblGams3.jsp?stts_cd=288401&amp;idx_cd=2884&amp;freq=Y&amp;period=1998:2016\"\n",
    "    html = requests.get(url).text\n",
    "    soup = BeautifulSoup(html, 'lxml')\n",
    "    tr_data = soup.find_all('tr', id='tr_288401_1')\n",
    "    td_data = tr_data[0].find_all('td')\n",
    "\n",
    "    treasury_3year = {}\n",
    "    start_year = 1998\n",
    "\n",
    "    for x in td_data:\n",
    "        treasury_3year[start_year] = x.text\n",
    "        start_year += 1\n",
    "\n",
    "    print(treasury_3year)\n",
    "    return treasury_3year\n",
    "\n",
    "\n",
    "\n",
    "def get_current_3year_treasury():\n",
    "    url = \"http://info.finance.naver.com/marketindex/interestDailyQuote.nhn?marketindexCd=IRR_GOVT03Y&page=1\"\n",
    "    html = requests.get(url).text\n",
    "\n",
    "    soup = BeautifulSoup(html, 'lxml')\n",
    "    tbody_data = soup.find_all('tbody')\n",
    "    tr_data = tbody_data[0].find_all('tr')\n",
    "    td_data = tr_data[0].find_all('td')\n",
    "    return td_data[1].text\n",
    "\n",
    "if __name__ == \"__main__\":\n",
    "    #df = get_financial_statements('035720')\n",
    "    #print(df)\n",
    "    get_3year_treasury()"
   ]
  },
  {
   "cell_type": "code",
   "execution_count": 283,
   "metadata": {
    "collapsed": false
   },
   "outputs": [
    {
     "data": {
      "text/plain": [
       "'1.84'"
      ]
     },
     "execution_count": 283,
     "metadata": {},
     "output_type": "execute_result"
    }
   ],
   "source": [
    "get_current_3year_treasury()"
   ]
  },
  {
   "cell_type": "code",
   "execution_count": null,
   "metadata": {
    "collapsed": true
   },
   "outputs": [],
   "source": []
  },
  {
   "cell_type": "code",
   "execution_count": 28,
   "metadata": {
    "collapsed": false
   },
   "outputs": [
    {
     "name": "stdout",
     "output_type": "stream",
     "text": [
      "{2016: '1.64', 1998: '6.95', 1999: '9.03', 2000: '6.70', 2001: '5.91', 2002: '5.11', 2003: '4.82', 2004: '3.28', 2005: '5.08', 2006: '4.92', 2007: '5.74', 2008: '3.41', 2009: '4.41', 2010: '3.38', 2011: '3.34', 2012: '2.82', 2013: '2.86', 2014: '2.10', 2015: '1.66'}\n"
     ]
    }
   ],
   "source": [
    "def get_3year_treasury():\n",
    "    url = \"http://www.index.go.kr/strata/jsp/showStblGams3.jsp?stts_cd=288401&amp;idx_cd=2884&amp;freq=Y&amp;period=1998:2016\"\n",
    "    html = requests.get(url).text\n",
    "    soup = BeautifulSoup(html, 'lxml')\n",
    "    tr_data = soup.find_all('tr', id='tr_288401_1')\n",
    "    td_data = tr_data[0].find_all('td')\n",
    "\n",
    "    treasury_3year = {}\n",
    "    start_year = 1998\n",
    "\n",
    "    for x in td_data:\n",
    "        treasury_3year[start_year] = x.text\n",
    "        start_year += 1\n",
    "\n",
    "    print(treasury_3year)\n",
    "    return treasury_3year\n",
    "\n",
    "if __name__ == \"__main__\":\n",
    "    #df = get_financial_statements('035720')\n",
    "    #print(df)\n",
    "    get_3year_treasury()"
   ]
  }
 ],
 "metadata": {
  "kernelspec": {
   "display_name": "Python 3",
   "language": "python",
   "name": "python3"
  },
  "language_info": {
   "codemirror_mode": {
    "name": "ipython",
    "version": 3
   },
   "file_extension": ".py",
   "mimetype": "text/x-python",
   "name": "python",
   "nbconvert_exporter": "python",
   "pygments_lexer": "ipython3",
   "version": "3.4.5"
  }
 },
 "nbformat": 4,
 "nbformat_minor": 2
}
